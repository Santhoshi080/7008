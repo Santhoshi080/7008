{
  "nbformat": 4,
  "nbformat_minor": 0,
  "metadata": {
    "colab": {
      "name": "Assignment 1",
      "provenance": [],
      "collapsed_sections": [],
      "authorship_tag": "ABX9TyPsFq8wUEpe5OiB7tyllZYB",
      "include_colab_link": true
    },
    "kernelspec": {
      "name": "python3",
      "display_name": "Python 3"
    }
  },
  "cells": [
    {
      "cell_type": "markdown",
      "metadata": {
        "id": "view-in-github",
        "colab_type": "text"
      },
      "source": [
        "<a href=\"https://colab.research.google.com/github/Santhoshi080/7008/blob/master/Assignment_1.ipynb\" target=\"_parent\"><img src=\"https://colab.research.google.com/assets/colab-badge.svg\" alt=\"Open In Colab\"/></a>"
      ]
    },
    {
      "cell_type": "code",
      "metadata": {
        "id": "Aw-CP1LQM1zj",
        "colab_type": "code",
        "colab": {
          "base_uri": "https://localhost:8080/",
          "height": 53
        },
        "outputId": "0bc9ee71-3010-4059-ff8c-8a11f6620412"
      },
      "source": [
        " \n",
        "pi=3.14\n",
        "r=float(input(\"enter area of circle\")) \n",
        "Area=pi*r*r\n",
        "print(\"area of circle is\",Area)"
      ],
      "execution_count": null,
      "outputs": [
        {
          "output_type": "stream",
          "text": [
            "enter area of circle4.5\n",
            "area of circle is 63.585\n"
          ],
          "name": "stdout"
        }
      ]
    },
    {
      "cell_type": "code",
      "metadata": {
        "id": "DOpFhwaONpkP",
        "colab_type": "code",
        "colab": {
          "base_uri": "https://localhost:8080/",
          "height": 127
        },
        "outputId": "f829ee4d-9b26-45af-cd14-2797922f78bd"
      },
      "source": [
        " a=float(input(\"enter side of triangle\"))\n",
        " b=float(input(\"enter side of triangle\"))\n",
        " c=float(input(\"enter side of triangle\"))\n",
        " \n",
        " s=(a+b+c)/2\n",
        " Area=(s*(s-a)*(s-b)*(s-c))**0.5\n",
        "print(\"Area of triangle is\",Area )"
      ],
      "execution_count": null,
      "outputs": [
        {
          "output_type": "stream",
          "text": [
            "enter side of triangle1.2\n",
            "enter side of triangle2.3\n",
            "enter side of triangle3.4\n",
            "Area of triangle is 0.6680896272207812\n"
          ],
          "name": "stdout"
        }
      ]
    },
    {
      "cell_type": "code",
      "metadata": {
        "id": "y7NS9b66RYlG",
        "colab_type": "code",
        "colab": {
          "base_uri": "https://localhost:8080/",
          "height": 213
        },
        "outputId": "cd799290-9d52-4a76-b6a5-61359b2cabb8"
      },
      "source": [
        " \n",
        "length = float(input('Please Enter the Length of a Triangle: '))\n",
        "width = float(input('Please Enter the Width of a Triangle: '))\n",
        " \n",
        "area = length * width\n",
        " \n",
        "print(\"The Area of a Rectangle is\", area)"
      ],
      "execution_count": null,
      "outputs": [
        {
          "output_type": "stream",
          "text": [
            "Please Enter the Length of a Triangle: 3\n",
            "Please Enter the Width of a Triangle: 4\n",
            "The Area of a Rectangle is 12.0\n"
          ],
          "name": "stdout"
        }
      ]
    },
    {
      "cell_type": "code",
      "metadata": {
        "id": "a8MIV-XsVuVT",
        "colab_type": "code",
        "colab": {
          "base_uri": "https://localhost:8080/",
          "height": 53
        },
        "outputId": "43f1ff0c-fa69-4534-fa13-2e0f9baaa820"
      },
      "source": [
        " \n",
        "pi=3.14\n",
        " r=float(input(\"enter radius of circle\"))\n",
        "Circumference=2*pi*r\n",
        "print(\"circumference of circle is\",Circumference)"
      ],
      "execution_count": null,
      "outputs": [
        {
          "output_type": "stream",
          "text": [
            "enter radius of circle6\n",
            "circumference of circle is 37.68\n"
          ],
          "name": "stdout"
        }
      ]
    },
    {
      "cell_type": "code",
      "metadata": {
        "id": "7p94gFAaT8qJ",
        "colab_type": "code",
        "colab": {
          "base_uri": "https://localhost:8080/",
          "height": 53
        },
        "outputId": "11502b42-ab02-4c0f-9810-9a3c045cfffd"
      },
      "source": [
        " A=float(input(\"enter side of a square\"))\n",
        "Perimeter=4*A\n",
        "print(\"perimeter of square is\",Perimeter)"
      ],
      "execution_count": null,
      "outputs": [
        {
          "output_type": "stream",
          "text": [
            "enter side of a square5\n",
            "perimeter of square is 20.0\n"
          ],
          "name": "stdout"
        }
      ]
    },
    {
      "cell_type": "code",
      "metadata": {
        "id": "QdStMvpvWz8x",
        "colab_type": "code",
        "colab": {
          "base_uri": "https://localhost:8080/",
          "height": 153
        },
        "outputId": "b91cafa4-da18-4370-96bc-6771317306f9"
      },
      "source": [
        " Celsius=float(input(\"enter the temperature in Celsius only\"))\n",
        "F=Celsius*1.8+32\n",
        "print(\"temperature converted in Fahrenheit is\",F)"
      ],
      "execution_count": null,
      "outputs": [
        {
          "output_type": "stream",
          "text": [
            "enter the temperature in Celsius only45\n",
            "temperature converted in Fahrenheit is 113.0\n"
          ],
          "name": "stdout"
        }
      ]
    },
    {
      "cell_type": "code",
      "metadata": {
        "id": "pM6vmBL1ZHTc",
        "colab_type": "code",
        "colab": {
          "base_uri": "https://localhost:8080/",
          "height": 87
        },
        "outputId": "b131f072-2c10-4861-fc99-ef6cf4299345"
      },
      "source": [
        " P=int(input(\"enter principal amount\"))\n",
        "T=int(input(\"enter the time\"))\n",
        "R=int(input(\"enter rate of the interesr\"))\n",
        "SI=P*T*R/100\n",
        "print(\"Simple interest is\",SI)"
      ],
      "execution_count": null,
      "outputs": [
        {
          "output_type": "stream",
          "text": [
            "enter principal amount100\n",
            "enter the time30\n",
            "enter rate of the interesr12\n",
            "Simple interest is 360.0\n"
          ],
          "name": "stdout"
        }
      ]
    },
    {
      "cell_type": "code",
      "metadata": {
        "id": "u5xaos1ua1L8",
        "colab_type": "code",
        "colab": {
          "base_uri": "https://localhost:8080/",
          "height": 70
        },
        "outputId": "f9b7e96b-0203-44fb-82ee-5aafb9020fba"
      },
      "source": [
        "a=float(input(\"enter value of a\"))\n",
        "b=float(input(\"enter value of b\"))\n",
        "print(a+b,a-b,a*b,a%b,a/b,a//b,sep=\",\")"
      ],
      "execution_count": null,
      "outputs": [
        {
          "output_type": "stream",
          "text": [
            "enter value of a3\n",
            "enter value of b4\n",
            "7.0,-1.0,12.0,3.0,0.75,0.0\n"
          ],
          "name": "stdout"
        }
      ]
    },
    {
      "cell_type": "markdown",
      "metadata": {
        "id": "O_kVuRdJh5Pg",
        "colab_type": "text"
      },
      "source": [
        ""
      ]
    },
    {
      "cell_type": "code",
      "metadata": {
        "id": "IbqK8cdwfAlx",
        "colab_type": "code",
        "colab": {
          "base_uri": "https://localhost:8080/",
          "height": 110
        },
        "outputId": "24e879dc-02c8-46b1-c744-b7f74f23ccff"
      },
      "source": [
        "a=int(input(\"enter a value\"))\n",
        "b=int(input(\"enter b value\"))\n",
        "temp,a=a,b\n",
        "b=temp\n",
        "print(\"after swapping value of a and b is\", a,b)"
      ],
      "execution_count": null,
      "outputs": [
        {
          "output_type": "stream",
          "text": [
            "enter a value4\n",
            "enter b value5\n",
            "after swapping value of a and b is 5 4\n"
          ],
          "name": "stdout"
        }
      ]
    }
  ]
}